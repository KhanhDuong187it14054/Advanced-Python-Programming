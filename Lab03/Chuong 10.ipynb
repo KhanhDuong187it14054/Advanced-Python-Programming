{
 "cells": [
  {
   "cell_type": "code",
   "execution_count": 45,
   "source": [
    "# Chuong 10\r\n",
    "# Cau 1\r\n",
    "file = input('Which file would you like to back-up ? ')\r\n",
    "name_file = file.split('.')[0]  # lấy phần tên của file.\r\n",
    "new_file = name_file + '_backup' + '.bak' # tạo file backup: TenFile_backup.bak\r\n",
    "backup = open(new_file, 'w')\r\n",
    "for line in open(file):\r\n",
    "    print(line)\r\n",
    "    backup.write(line)\r\n",
    "backup.close()"
   ],
   "outputs": [
    {
     "output_type": "stream",
     "name": "stdout",
     "text": [
      "Cao Khanh Duong\n",
      "\n",
      "187IT14054\n",
      "\n",
      "K24T-IT3\n",
      "\n"
     ]
    }
   ],
   "metadata": {}
  },
  {
   "cell_type": "code",
   "execution_count": 8,
   "source": [
    "# Cau 2 : đọc file và tạo danh sách chứa các danh sách\r\n",
    "alkaline_metals = []\r\n",
    "for line in open('alkaline_metals.txt'):\r\n",
    "    alkaline_metals.append(line.strip().split(' '))\r\n",
    "print('alkaline_metals = ', alkaline_metals)"
   ],
   "outputs": [
    {
     "output_type": "stream",
     "name": "stdout",
     "text": [
      "alkaline_metals =  [['beryllium', '4', '9.012'], ['magnesium', '12', '24.305'], ['calcium', '20', '20.078'], ['strontium', '38', '87.62'], ['barium', '56', '137.327'], ['radium', '88', '226']]\n"
     ]
    }
   ],
   "metadata": {}
  },
  {
   "cell_type": "markdown",
   "source": [],
   "metadata": {}
  },
  {
   "cell_type": "code",
   "execution_count": 53,
   "source": [
    "# Cau 3 : đọc file và in ngược\r\n",
    "string = []\r\n",
    "for line in open('CaoKhanhDuong.txt'):\r\n",
    "    print(line)\r\n",
    "    string.append(line)\r\n",
    "print('Đọc ngược file:\\n ',)\r\n",
    "for x in reversed(string):\r\n",
    "    print(x)"
   ],
   "outputs": [
    {
     "output_type": "stream",
     "name": "stdout",
     "text": [
      "Cao Khanh Duong\n",
      "\n",
      "187IT14054\n",
      "\n",
      "K24T-IT3\n",
      "\n",
      "Đọc ngược file:\n",
      " \n",
      "K24T-IT3\n",
      "\n",
      "187IT14054\n",
      "\n",
      "Cao Khanh Duong\n",
      "\n"
     ]
    }
   ],
   "metadata": {}
  }
 ],
 "metadata": {
  "orig_nbformat": 4,
  "language_info": {
   "name": "python",
   "version": "3.9.7",
   "mimetype": "text/x-python",
   "codemirror_mode": {
    "name": "ipython",
    "version": 3
   },
   "pygments_lexer": "ipython3",
   "nbconvert_exporter": "python",
   "file_extension": ".py"
  },
  "kernelspec": {
   "name": "python3",
   "display_name": "Python 3.9.7 64-bit"
  },
  "interpreter": {
   "hash": "4cc67988e4988ee1d9bd9908c1fd5661d460c125cfbe9ce405d7f4fc09dc6c63"
  }
 },
 "nbformat": 4,
 "nbformat_minor": 2
}