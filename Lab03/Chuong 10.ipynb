{
 "cells": [
  {
   "cell_type": "code",
   "execution_count": 2,
   "source": [
    "# Chuong 10\r\n",
    "# Cau 1\r\n",
    "file = input('Which file would you like to back-up ? ')\r\n",
    "name_file = file.split('.')[0]  # lấy phần tên của file.\r\n",
    "new_file = name_file + '_backup' + '.bak' # tạo file backup: TenFile_backup.bak\r\n",
    "backup = open(new_file, 'w')\r\n",
    "for line in open(file):\r\n",
    "    print(line)\r\n",
    "    backup.write(line)\r\n",
    "backup.close()"
   ],
   "outputs": [
    {
     "output_type": "stream",
     "name": "stdout",
     "text": [
      "Cao Khanh Duong\n",
      "\n",
      "187IT14054\n",
      "\n",
      "K24T-IT3\n"
     ]
    }
   ],
   "metadata": {}
  },
  {
   "cell_type": "markdown",
   "source": [],
   "metadata": {}
  }
 ],
 "metadata": {
  "orig_nbformat": 4,
  "language_info": {
   "name": "python",
   "version": "3.9.7",
   "mimetype": "text/x-python",
   "codemirror_mode": {
    "name": "ipython",
    "version": 3
   },
   "pygments_lexer": "ipython3",
   "nbconvert_exporter": "python",
   "file_extension": ".py"
  },
  "kernelspec": {
   "name": "python3",
   "display_name": "Python 3.9.7 64-bit"
  },
  "interpreter": {
   "hash": "4cc67988e4988ee1d9bd9908c1fd5661d460c125cfbe9ce405d7f4fc09dc6c63"
  }
 },
 "nbformat": 4,
 "nbformat_minor": 2
}