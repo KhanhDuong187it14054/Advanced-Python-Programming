{
 "cells": [
  {
   "cell_type": "code",
   "execution_count": 97,
   "source": [
    "# Chuong 10\r\n",
    "# Cau 1\r\n",
    "file = input('Which file would you like to back-up ? ')\r\n",
    "name_file = file.split('.')[0]  # lấy phần tên của file.\r\n",
    "new_file = name_file + '_backup' + '.bak' # tạo file backup: TenFile_backup.bak\r\n",
    "backup = open(new_file, 'w')\r\n",
    "for line in open(file):\r\n",
    "    print(line)\r\n",
    "    backup.write(line)\r\n",
    "backup.close()"
   ],
   "outputs": [
    {
     "output_type": "stream",
     "name": "stdout",
     "text": [
      "Thong tin sinh vien\n",
      "\n",
      "# Cao Khanh Duong - 187IT14054\n",
      "\n",
      "# Bang diem:\n",
      "\n",
      "10\n",
      "\n",
      "-\n",
      "\n",
      "9\n",
      "\n",
      "8\n",
      "\n"
     ]
    }
   ],
   "metadata": {}
  },
  {
   "cell_type": "code",
   "execution_count": 98,
   "source": [
    "# Cau 2 : đọc file và tạo danh sách chứa các danh sách\r\n",
    "alkaline_metals = []\r\n",
    "for line in open('alkaline_metals.txt'):\r\n",
    "    alkaline_metals.append(line.strip().split(' '))\r\n",
    "print('alkaline_metals = ', alkaline_metals)"
   ],
   "outputs": [
    {
     "output_type": "stream",
     "name": "stdout",
     "text": [
      "alkaline_metals =  [['beryllium', '4', '9.012'], ['magnesium', '12', '24.305'], ['calcium', '20', '20.078'], ['strontium', '38', '87.62'], ['barium', '56', '137.327'], ['radium', '88', '226']]\n"
     ]
    }
   ],
   "metadata": {}
  },
  {
   "cell_type": "code",
   "execution_count": 99,
   "source": [
    "# Cau 3 : đọc file và in ngược\r\n",
    "content = []\r\n",
    "for line in open('CaoKhanhDuong.txt'):\r\n",
    "    content.append(line)\r\n",
    "print('Đọc ngược file:\\n ',)\r\n",
    "for line in reversed(content):\r\n",
    "    print(line)"
   ],
   "outputs": [
    {
     "output_type": "stream",
     "name": "stdout",
     "text": [
      "Đọc ngược file:\n",
      " \n",
      "8\n",
      "\n",
      "9\n",
      "\n",
      "-\n",
      "\n",
      "10\n",
      "\n",
      "# Bang diem:\n",
      "\n",
      "# Cao Khanh Duong - 187IT14054\n",
      "\n",
      "Thong tin sinh vien\n",
      "\n"
     ]
    }
   ],
   "metadata": {}
  },
  {
   "cell_type": "code",
   "execution_count": 7,
   "source": [
    "# Cau 4 : Rewrite function process_file to skip the header as normal but then use the Read technique to read all the data at once.\r\n",
    "\r\n",
    "def skip_header(reader):\r\n",
    "    '''Skip the header in reader r, and return the first\r\n",
    "    real piece of data.'''\r\n",
    "    \r\n",
    "    # Read the description line and then the comment lines.\r\n",
    "    line = reader.readline()    \r\n",
    "    line = reader.readline()\r\n",
    "    while line.startswith('#'):\r\n",
    "        line = reader.readline() \r\n",
    "    # Now line contains the first real piece of data.\r\n",
    "    return line\r\n",
    "\r\n",
    "def process_file(reader):\r\n",
    "    '''(file open for reading) -> NoneType\r\n",
    "    Read and print the data from reader, which must start with a single\r\n",
    "    description line, then a sequence of lines beginning with '#', \r\n",
    "    then a sequence of data.\r\n",
    "    '''\r\n",
    "\r\n",
    "    # Find the first piece of data.\r\n",
    "    line = skip_header(reader).strip()\r\n",
    "    print(line)\r\n",
    "    # Read the rest of the data.\r\n",
    "    for line in reader:\r\n",
    "        line = line.strip()\r\n",
    "        print(line)\r\n",
    "\r\n",
    "input_file = open('CaoKhanhDuong.txt', 'r')\r\n",
    "process_file(input_file)\r\n",
    "input_file.close()"
   ],
   "outputs": [
    {
     "output_type": "stream",
     "name": "stdout",
     "text": [
      "10\n",
      "-\n",
      "9\n",
      "8\n",
      "None\n"
     ]
    }
   ],
   "metadata": {}
  },
  {
   "cell_type": "code",
   "execution_count": 8,
   "source": [
    "# Cau 5 :\r\n",
    "def smallest_value_skip(reader):\r\n",
    "    \"\"\" (file open for reading) -> number or NoneType\r\n",
    "    Read and process reader, which must start with a time_series \r\n",
    "    header.\r\n",
    "    Return the smallest value after the header. Skip missing values, \r\n",
    "    which are indicated with a hyphen.\"\"\"\r\n",
    "    \r\n",
    "    line = skip_header(reader).strip()\r\n",
    "    # Only execute this code, if there is data following the header.\r\n",
    "    if line != '':\r\n",
    "        smallest = int(line)\r\n",
    "    for line in reader:\r\n",
    "        line = line.strip()\r\n",
    "        if line != '-':\r\n",
    "            value = int(line)\r\n",
    "            smallest = min(smallest, value)\r\n",
    "    return smallest\r\n",
    "\r\n",
    "input_file = open('CaoKhanhDuong.txt', 'r')\r\n",
    "print(smallest_value_skip(input_file))\r\n",
    "input_file.close()"
   ],
   "outputs": [
    {
     "output_type": "stream",
     "name": "stdout",
     "text": [
      "8\n"
     ]
    }
   ],
   "metadata": {}
  },
  {
   "cell_type": "markdown",
   "source": [],
   "metadata": {}
  },
  {
   "cell_type": "code",
   "execution_count": 10,
   "source": [
    "# Cau 6 : uses a continue inside the loop instead of an if in Cau 5\r\n",
    "def smallest_value_skip2(reader):\r\n",
    "    \"\"\" (file open for reading) -> NoneType\r\n",
    "    Read and process reader, which must start with a time_series header.\r\n",
    "    Return the smallest value after the header. Skip missing values, which\r\n",
    "    are indicated with a hyphen.\r\n",
    "    \"\"\"\r\n",
    "\r\n",
    "    line = skip_header(reader).strip()\r\n",
    "    # Now line contains the first data value; this is also the smallest value\r\n",
    "    # found so far, because it is the only one we have seen.\r\n",
    "    smallest = int(line)\r\n",
    "\r\n",
    "    for line in reader: \r\n",
    "        line = line.strip()\r\n",
    "        if line == '-':\r\n",
    "            continue\r\n",
    "\r\n",
    "    value = int(line)\r\n",
    "    smallest = min(smallest, value)\r\n",
    "\r\n",
    "    return smallest\r\n",
    "\r\n",
    "input_file = open('CaoKhanhDuong.txt', 'r')\r\n",
    "print(smallest_value_skip2(input_file))\r\n",
    "input_file.close()"
   ],
   "outputs": [
    {
     "output_type": "stream",
     "name": "stdout",
     "text": [
      "8\n"
     ]
    }
   ],
   "metadata": {}
  }
 ],
 "metadata": {
  "orig_nbformat": 4,
  "language_info": {
   "name": "python",
   "version": "3.9.7",
   "mimetype": "text/x-python",
   "codemirror_mode": {
    "name": "ipython",
    "version": 3
   },
   "pygments_lexer": "ipython3",
   "nbconvert_exporter": "python",
   "file_extension": ".py"
  },
  "kernelspec": {
   "name": "python3",
   "display_name": "Python 3.9.7 64-bit"
  },
  "interpreter": {
   "hash": "4cc67988e4988ee1d9bd9908c1fd5661d460c125cfbe9ce405d7f4fc09dc6c63"
  }
 },
 "nbformat": 4,
 "nbformat_minor": 2
}