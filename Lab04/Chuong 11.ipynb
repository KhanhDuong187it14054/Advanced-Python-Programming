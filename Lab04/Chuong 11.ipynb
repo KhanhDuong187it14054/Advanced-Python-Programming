{
 "cells": [
  {
   "cell_type": "code",
   "execution_count": 14,
   "metadata": {},
   "outputs": [
    {
     "data": {
      "text/plain": [
       "{1, 2, 3}"
      ]
     },
     "execution_count": 14,
     "metadata": {},
     "output_type": "execute_result"
    }
   ],
   "source": [
    "# Cau 1:  takes a list of integers as its input argument. Let returns a set of those integers occurring two or more times in the list\n",
    "def find_dups(L):\n",
    "    \"\"\" (list) -> set\n",
    "    Return the number of duplicates numbers from L.\n",
    "    >>> find_dups([1, 1, 2, 3, 4, 2, 2])\n",
    "    {1, 2}\n",
    "    >>> find_dups([1, 2, 3, 4])\n",
    "    set()\n",
    "    \"\"\"\n",
    "    elem_set = set()\n",
    "    dups_set = set()\n",
    "    for entry in L:\n",
    "        len_initial = len(elem_set)\n",
    "        elem_set.add(entry)\n",
    "        len_after = len(elem_set)\n",
    "        if len_initial == len_after:\n",
    "            dups_set.add(entry)\n",
    "    return(dups_set)\n",
    "list_integers = [1,1,2,2,3,3,4,5,6,7,8,9]\n",
    "find_dups(list_integers)"
   ]
  },
  {
   "cell_type": "code",
   "execution_count": 15,
   "metadata": {},
   "outputs": [
    {
     "name": "stdout",
     "output_type": "stream",
     "text": [
      "[['AMMONIA', ['N', '0.257', '-0.363', '0.000'], ['H', '0.257', '0.727', '0.000'], ['H', '0.771', '-0.727', '0.890'], ['H', '0.771', '-0.727', '-0.890']], ['METHANOL', ['C', '-0.748', '-0.015', '0.024'], ['O', '0.558', '0.420', '-0.278'], ['H', '-1.293', '-0.202', '-0.901'], ['H', '-1.263', '0.754', '0.600'], ['H', '-0.699', '-0.934', '0.609'], ['H', '0.716', '1.404', '0.137']]]\n"
     ]
    }
   ],
   "source": [
    "# Cau 2: \n",
    "# Read file multimol.pdb. Return the first item is the name of compound\n",
    "# then list contains type, coordinates of that atom \n",
    "def read_molecule(reader):\n",
    "    # Nếu không có dòng nào thì kết thúc\n",
    "    line = reader.readline()\n",
    "    if not line:\n",
    "        return None\n",
    "    # Compound name\n",
    "    key, name = line.split()\n",
    "\n",
    "    molecule = [name]\n",
    "    line = reader.readline()\n",
    "    \n",
    "    # the atoms in the molecule.\n",
    "    while not line.startswith('END'):\n",
    "        key, num, atom_type, x, y, z = line.split()\n",
    "        molecule.append([atom_type, x, y, z])\n",
    "        line = reader.readline()\n",
    "    return molecule\n",
    "\n",
    "def read_all_molecules(reader):\n",
    "    result = []\n",
    "    reading = True\n",
    "    while reading:\n",
    "        molecule = read_molecule(reader)\n",
    "        if molecule: \n",
    "            result.append(molecule)\n",
    "        else:\n",
    "            reading = False\n",
    "    return result\n",
    "if __name__ == \"__main__\":\n",
    "    molecule_file = open('multimol.pdb','r')\n",
    "    molecules = read_all_molecules(molecule_file)\n",
    "    print(molecules)\n"
   ]
  },
  {
   "cell_type": "code",
   "execution_count": 16,
   "metadata": {},
   "outputs": [
    {
     "data": {
      "text/plain": [
       "{('Nam1', 'Nu3'), ('Nam2', 'Nu2'), ('Nam3', 'Nu1')}"
      ]
     },
     "execution_count": 16,
     "metadata": {},
     "output_type": "execute_result"
    }
   ],
   "source": [
    "# Cau 3: Return a set of tuples where each tuple contains a male from males and a female from females.\n",
    "def mating_pairs(males, females):\n",
    "    \"\"\" >>> mating_pairs({'Anne', 'Beatrice', 'Cari'}, {'Ali', 'Bob', \n",
    "    'Chen'})\n",
    "    {('Cari', 'Chen'), ('Beatrice', 'Bob'), ('Anne', 'Ali')}\n",
    "    \"\"\"\n",
    "    try:\n",
    "        pairs = set()\n",
    "        num_gerbils = len(males)\n",
    "        for i in range(num_gerbils):\n",
    "            male = males.pop()\n",
    "            female = females.pop()\n",
    "            pairs.add((male, female),)\n",
    "        return pairs\n",
    "    except:\n",
    "        return print(\"Loi!!! Số lượng Males và Females phải bằng nhau\")\n",
    "males = {'Nam1', 'Nam2', 'Nam3'}\n",
    "females = {'Nu1', 'Nu2', 'Nu3'}\n",
    "mating_pairs(males, females)\n"
   ]
  },
  {
   "cell_type": "code",
   "execution_count": 3,
   "metadata": {},
   "outputs": [
    {
     "name": "stdout",
     "output_type": "stream",
     "text": [
      "{'Cao Khanh Duong', 'J.K.Rowling'}\n"
     ]
    }
   ],
   "source": [
    "# Cau 4: Return a list of the authors in PDB files names appear in filenames.\n",
    "def get_authors(filenames):\n",
    "    authors = set()\n",
    "    for filename in filenames:\n",
    "        for line in open(filename,'r'):\n",
    "            if line.lower().startswith('author'):\n",
    "                author = line[6:].strip()\n",
    "                authors.add(author)\n",
    "    return authors\n",
    "if __name__ == \"__main__\":\n",
    "    list_file = ['PDB_1.pdb','PDB_2.pdb']\n",
    "    print(get_authors(list_file))"
   ]
  },
  {
   "cell_type": "code",
   "execution_count": 30,
   "metadata": {},
   "outputs": [
    {
     "data": {
      "text/plain": [
       "3"
      ]
     },
     "execution_count": 30,
     "metadata": {},
     "output_type": "execute_result"
    }
   ],
   "source": [
    "# Cau 5:  Takes a single dictionary as an argument and returns the number of distinct values\n",
    "def count_values(dictionary):\n",
    "    return len(set(dictionary.values()))\n",
    "count_values({'A': 1, 'B': 2, 'C': 2, 'D':3})"
   ]
  },
  {
   "cell_type": "code",
   "execution_count": 31,
   "metadata": {},
   "outputs": [
    {
     "data": {
      "text/plain": [
       "'meson'"
      ]
     },
     "execution_count": 31,
     "metadata": {},
     "output_type": "execute_result"
    }
   ],
   "source": [
    "# Cau 6: Return the particle from particle_to_probability with the lowest probablity.\n",
    "def least_likely(particle_to_probability):\n",
    "    smallest = 1\n",
    "    name = ''\n",
    "    for particle in particle_to_probability:\n",
    "        probability = particle_to_probability[particle]\n",
    "        if probability < smallest:\n",
    "            smallest = probability\n",
    "            name = particle\n",
    "    return name\n",
    "least_likely({'neutron': 0.55, 'proton': 0.21, 'meson': 0.03, 'muon': 0.07, 'neutrino': 0.14})"
   ]
  },
  {
   "cell_type": "code",
   "execution_count": 6,
   "metadata": {},
   "outputs": [
    {
     "data": {
      "text/plain": [
       "2"
      ]
     },
     "execution_count": 6,
     "metadata": {},
     "output_type": "execute_result"
    }
   ],
   "source": [
    "# Cau 7: Returns the number of values that appear two or more times\n",
    "def count_duplicates(dictionary):\n",
    "    duplicates = 0\n",
    "    values = list(dictionary.values())\n",
    "    for item in values:      \n",
    "        if values.count(item) >= 2:\n",
    "            duplicates = duplicates + 1     \n",
    "            num_occurrences = values.count(item)\n",
    "            for i in range(num_occurrences):\n",
    "                values.remove(item)\n",
    "\n",
    "    return duplicates\n",
    "count_duplicates({'A': 1, 'B': 2, 'C': 2, 'D': 1, 'E': 3})"
   ]
  },
  {
   "cell_type": "code",
   "execution_count": 8,
   "metadata": {},
   "outputs": [
    {
     "data": {
      "text/plain": [
       "True"
      ]
     },
     "execution_count": 8,
     "metadata": {},
     "output_type": "execute_result"
    }
   ],
   "source": [
    "# Cau 8:  return True if they represent a balanced color.\n",
    "def is_balanced(color_to_factor):\n",
    "    values = list(color_to_factor.values())\n",
    "    total = sum(values)\n",
    "    return total == 1.0\n",
    "is_balanced({'R': 0.3, 'G': 0.5, 'B': 0.2})"
   ]
  },
  {
   "cell_type": "code",
   "execution_count": 10,
   "metadata": {},
   "outputs": [
    {
     "data": {
      "text/plain": [
       "{'a': 1, 'b': 2}"
      ]
     },
     "execution_count": 10,
     "metadata": {},
     "output_type": "execute_result"
    }
   ],
   "source": [
    "# Cau 9: Return a new dictionary that contains only the key/value pairs that occur in both dict1 and dict2.\n",
    "def dict_interest(dict1, dict2):\n",
    "    intersection = {}\n",
    "    for (key, value) in dict1.items():\n",
    "        if key in dict2 and value == dict2[key]:\n",
    "            intersection[key] = value\n",
    "\n",
    "    return intersection\n",
    "dict_interest({'a': 1, 'b': 2, 'c': 3}, {'a': 1, 'b': 2, 'd': 2})"
   ]
  },
  {
   "cell_type": "code",
   "execution_count": 15,
   "metadata": {},
   "outputs": [
    {
     "data": {
      "text/plain": [
       "{'author', 'born', 'died', 'forename', 'notes', 'surname'}"
      ]
     },
     "execution_count": 15,
     "metadata": {},
     "output_type": "execute_result"
    }
   ],
   "source": [
    "# Cau 10: Return a set of the keys in the inner dictionaries in dict_of_dict.\n",
    "def db_headings(dict_of_dict):\n",
    "    inner_keys = set()\n",
    "    for key in dict_of_dict:\n",
    "        for inner_key in dict_of_dict[key]:\n",
    "            inner_keys.add(inner_key)\n",
    "    return inner_keys\n",
    "    \n",
    "db_headings(\n",
    "{'jgoodall' : {'surname' : 'Goodall',\n",
    "'forename' : 'Jane',\n",
    "'born' : 1934,\n",
    "'died' : None,\n",
    "'notes' : 'primate researcher',\n",
    "'author' : ['In the Shadow of Man',\n",
    "'The Chimpanzees of Gombe']},\n",
    "\n",
    "'rfranklin' : {'surname' : 'Franklin',\n",
    "'forename' : 'Rosalind',\n",
    "'born' : 1920,\n",
    "'died' : 1957,\n",
    "'notes' : 'contributed to discovery of DNA'},\n",
    "\n",
    "'rcarson' : {'surname' : 'Carson',\n",
    "'forename' : 'Rachel',\n",
    "'born' : 1907,\n",
    "'died' : 1964,\n",
    "'notes' : 'raised awareness of effects of DDT',\n",
    "'author' : ['Silent Spring']}\n",
    "}\n",
    ")\n"
   ]
  },
  {
   "cell_type": "code",
   "execution_count": 18,
   "metadata": {},
   "outputs": [
    {
     "data": {
      "text/plain": [
       "False"
      ]
     },
     "execution_count": 18,
     "metadata": {},
     "output_type": "execute_result"
    }
   ],
   "source": [
    "# Cau 11: Return whether all inner dictionaries in dict_of_dict contain the same keys.\n",
    "def db_consistent(dict_of_dict):\n",
    "    inner_keys_list = []\n",
    "    # List of list of keys\n",
    "    for key in dict_of_dict:\n",
    "        inner_keys = list(dict_of_dict[key].keys())\n",
    "        inner_keys.sort()\n",
    "        inner_keys_list.append(inner_keys)\n",
    "        \n",
    "    for i in range(1, len(inner_keys_list)):\n",
    "        # If the number of keys is different.\n",
    "        if len(inner_keys_list[0]) != len(inner_keys_list[i]):\n",
    "            return False\n",
    "\n",
    "        # If the keys don't match.\n",
    "        for j in range(len(inner_keys_list[0])):\n",
    "            if inner_keys_list[0][j] != inner_keys_list[i][j]:\n",
    "                return False\n",
    "    return True\n",
    "\n",
    "db_consistent(\n",
    "{'jgoodall' : {'surname' : 'Goodall',\n",
    "'forename' : 'Jane',\n",
    "'born' : 1934,\n",
    "'died' : None,\n",
    "'notes' : 'primate researcher',\n",
    "'author' : ['In the Shadow of Man',\n",
    "'The Chimpanzees of Gombe']},\n",
    "\n",
    "'rfranklin' : {'surname' : 'Franklin',\n",
    "'forename' : 'Rosalind',\n",
    "'born' : 1920,\n",
    "'died' : 1957,\n",
    "'notes' : 'contributed to discovery of DNA'},\n",
    "\n",
    "'rcarson' : {'surname' : 'Carson',\n",
    "'forename' : 'Rachel',\n",
    "'born' : 1907,\n",
    "'died' : 1964,\n",
    "'notes' : 'raised awareness of effects of DDT',\n",
    "'author' : ['Silent Spring']}\n",
    "}\n",
    ")"
   ]
  },
  {
   "cell_type": "code",
   "execution_count": 22,
   "metadata": {},
   "outputs": [
    {
     "data": {
      "text/plain": [
       "{1: 3, 2: 7, 3: 9, 4: 6}"
      ]
     },
     "execution_count": 22,
     "metadata": {},
     "output_type": "execute_result"
    }
   ],
   "source": [
    "# Cau 12 a: takes two sparse vectors stored as dictionaries and returns a new dictionary representing their sum.\n",
    "def sparse_add(vector1, vector2):\n",
    "    sum_vector = vector1.copy()\n",
    "    for key in vector2:\n",
    "        if key in sum_vector:\n",
    "            sum_vector[key] = sum_vector[key] + vector2[key]\n",
    "        else:\n",
    "            sum_vector[key] = vector2[key]\n",
    "\n",
    "    return sum_vector\n",
    "sparse_add({1: 3, 2: 3, 3: 4}, {2: 4, 3: 5, 4: 6})"
   ]
  },
  {
   "cell_type": "code",
   "execution_count": 26,
   "metadata": {},
   "outputs": [
    {
     "data": {
      "text/plain": [
       "32"
      ]
     },
     "execution_count": 26,
     "metadata": {},
     "output_type": "execute_result"
    }
   ],
   "source": [
    "# Cau 12 b: Return the dot product of sparse vectors vector1 and vector2.\n",
    "def sparse_dot(vector1, vector2):\n",
    "    dot = 0\n",
    "\n",
    "    for key1 in vector1:\n",
    "        if key1 in vector2:\n",
    "            dot = dot + vector1[key1] * vector2[key1]\n",
    "\n",
    "    return dot\n",
    "sparse_dot({1: 3, 2: 3, 3: 4}, {2: 4, 3: 5, 4: 6})"
   ]
  }
 ],
 "metadata": {
  "interpreter": {
   "hash": "4cc67988e4988ee1d9bd9908c1fd5661d460c125cfbe9ce405d7f4fc09dc6c63"
  },
  "kernelspec": {
   "display_name": "Python 3.9.7 64-bit",
   "name": "python3"
  },
  "language_info": {
   "codemirror_mode": {
    "name": "ipython",
    "version": 3
   },
   "file_extension": ".py",
   "mimetype": "text/x-python",
   "name": "python",
   "nbconvert_exporter": "python",
   "pygments_lexer": "ipython3",
   "version": "3.9.7"
  },
  "orig_nbformat": 4
 },
 "nbformat": 4,
 "nbformat_minor": 2
}
