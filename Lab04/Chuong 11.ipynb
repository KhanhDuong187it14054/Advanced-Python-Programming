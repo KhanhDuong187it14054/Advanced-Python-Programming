{
 "cells": [
  {
   "cell_type": "code",
   "execution_count": 1,
   "metadata": {},
   "outputs": [
    {
     "data": {
      "text/plain": [
       "{1, 2, 3}"
      ]
     },
     "execution_count": 1,
     "metadata": {},
     "output_type": "execute_result"
    }
   ],
   "source": [
    "# Cau 1:  takes a list of integers as its input argument. Let returns a set of those integers occurring two or more times in the list\n",
    "def find_dups(L):\n",
    "    \"\"\" (list) -> set\n",
    "    Return the number of duplicates numbers from L.\n",
    "    >>> find_dups([1, 1, 2, 3, 4, 2, 2])\n",
    "    {1, 2}\n",
    "    >>> find_dups([1, 2, 3, 4])\n",
    "    set()\n",
    "    \"\"\"\n",
    "    elem_set = set()\n",
    "    dups_set = set()\n",
    "    for entry in L:\n",
    "        len_initial = len(elem_set)\n",
    "        elem_set.add(entry)\n",
    "        len_after = len(elem_set)\n",
    "        if len_initial == len_after:\n",
    "            dups_set.add(entry)\n",
    "    return(dups_set)\n",
    "list_integers = [1,1,2,2,3,3,4,5,6,7,8,9]\n",
    "find_dups(list_integers)"
   ]
  },
  {
   "cell_type": "code",
   "execution_count": 3,
   "metadata": {},
   "outputs": [
    {
     "name": "stdout",
     "output_type": "stream",
     "text": [
      "[['AMMONIA', ['N', '0.257', '-0.363', '0.000'], ['H', '0.257', '0.727', '0.000'], ['H', '0.771', '-0.727', '0.890'], ['H', '0.771', '-0.727', '-0.890']], ['METHANOL', ['C', '-0.748', '-0.015', '0.024'], ['O', '0.558', '0.420', '-0.278'], ['H', '-1.293', '-0.202', '-0.901'], ['H', '-1.263', '0.754', '0.600'], ['H', '-0.699', '-0.934', '0.609'], ['H', '0.716', '1.404', '0.137']]]\n"
     ]
    }
   ],
   "source": [
    "# Cau 2: \n",
    "# Read file multimol.pdb. Return the first item is the name of compound\n",
    "# then list contains type, coordinates of that atom \n",
    "def read_molecule(reader):\n",
    "    # Nếu không có dòng nào thì kết thúc\n",
    "    line = reader.readline()\n",
    "    if not line:\n",
    "        return None\n",
    "    # Compound name\n",
    "    key, name = line.split()\n",
    "\n",
    "    molecule = [name]\n",
    "    line = reader.readline()\n",
    "    \n",
    "    # the atoms in the molecule.\n",
    "    while not line.startswith('END'):\n",
    "        key, num, atom_type, x, y, z = line.split()\n",
    "        molecule.append([atom_type, x, y, z])\n",
    "        line = reader.readline()\n",
    "    return molecule\n",
    "\n",
    "def read_all_molecules(reader):\n",
    "    result = []\n",
    "    reading = True\n",
    "    while reading:\n",
    "        molecule = read_molecule(reader)\n",
    "        if molecule: \n",
    "            result.append(molecule)\n",
    "        else:\n",
    "            reading = False\n",
    "    return result\n",
    "if __name__ == \"__main__\":\n",
    "    molecule_file = open('multimol.pdb','r')\n",
    "    molecules = read_all_molecules(molecule_file)\n",
    "    print(molecules)\n"
   ]
  },
  {
   "cell_type": "code",
   "execution_count": 6,
   "metadata": {},
   "outputs": [
    {
     "data": {
      "text/plain": [
       "{('Nam1', 'Nu3'), ('Nam2', 'Nu2'), ('Nam3', 'Nu1')}"
      ]
     },
     "execution_count": 6,
     "metadata": {},
     "output_type": "execute_result"
    }
   ],
   "source": [
    "# Cau 3: Return a set of tuples where each tuple contains a male from males and a female from females.\n",
    "def mating_pairs(males, females):\n",
    "    \"\"\" >>> mating_pairs({'Anne', 'Beatrice', 'Cari'}, {'Ali', 'Bob', \n",
    "    'Chen'})\n",
    "    {('Cari', 'Chen'), ('Beatrice', 'Bob'), ('Anne', 'Ali')}\n",
    "    \"\"\"\n",
    "    try:\n",
    "        pairs = set()\n",
    "        num_gerbils = len(males)\n",
    "        for i in range(num_gerbils):\n",
    "            male = males.pop()\n",
    "            female = females.pop()\n",
    "            pairs.add((male, female),)\n",
    "        return pairs\n",
    "    except:\n",
    "        return print(\"Loi!!! Số lượng Males và Females phải bằng nhau\")\n",
    "males = {'Nam1', 'Nam2', 'Nam3'}\n",
    "females = {'Nu1', 'Nu2', 'Nu3'}\n",
    "mating_pairs(males, females)\n"
   ]
  }
 ],
 "metadata": {
  "interpreter": {
   "hash": "4cc67988e4988ee1d9bd9908c1fd5661d460c125cfbe9ce405d7f4fc09dc6c63"
  },
  "kernelspec": {
   "display_name": "Python 3.9.7 64-bit",
   "name": "python3"
  },
  "language_info": {
   "codemirror_mode": {
    "name": "ipython",
    "version": 3
   },
   "file_extension": ".py",
   "mimetype": "text/x-python",
   "name": "python",
   "nbconvert_exporter": "python",
   "pygments_lexer": "ipython3",
   "version": "3.9.7"
  },
  "orig_nbformat": 4
 },
 "nbformat": 4,
 "nbformat_minor": 2
}
