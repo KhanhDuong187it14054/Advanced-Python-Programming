{
 "cells": [
  {
   "cell_type": "code",
   "execution_count": 1,
   "metadata": {},
   "outputs": [
    {
     "data": {
      "text/plain": [
       "{1, 2, 3}"
      ]
     },
     "execution_count": 1,
     "metadata": {},
     "output_type": "execute_result"
    }
   ],
   "source": [
    "# Cau 1:  takes a list of integers as its input argument. Let returns a set of those integers occurring two or more times in the list\n",
    "def find_dups(L):\n",
    "    \"\"\" (list) -> set\n",
    "    Return the number of duplicates numbers from L.\n",
    "    >>> find_dups([1, 1, 2, 3, 4, 2, 2])\n",
    "    {1, 2}\n",
    "    >>> find_dups([1, 2, 3, 4])\n",
    "    set()\n",
    "    \"\"\"\n",
    "    elem_set = set()\n",
    "    dups_set = set()\n",
    "    for entry in L:\n",
    "        len_initial = len(elem_set)\n",
    "        elem_set.add(entry)\n",
    "        len_after = len(elem_set)\n",
    "        if len_initial == len_after:\n",
    "            dups_set.add(entry)\n",
    "    return(dups_set)\n",
    "list_integers = [1,1,2,2,3,3,4,5,6,7,8,9]\n",
    "find_dups(list_integers)"
   ]
  }
 ],
 "metadata": {
  "interpreter": {
   "hash": "4cc67988e4988ee1d9bd9908c1fd5661d460c125cfbe9ce405d7f4fc09dc6c63"
  },
  "kernelspec": {
   "display_name": "Python 3.9.7 64-bit",
   "name": "python3"
  },
  "language_info": {
   "codemirror_mode": {
    "name": "ipython",
    "version": 3
   },
   "file_extension": ".py",
   "mimetype": "text/x-python",
   "name": "python",
   "nbconvert_exporter": "python",
   "pygments_lexer": "ipython3",
   "version": "3.9.7"
  },
  "orig_nbformat": 4
 },
 "nbformat": 4,
 "nbformat_minor": 2
}
