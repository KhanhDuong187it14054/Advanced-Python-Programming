{
 "cells": [
  {
   "cell_type": "code",
   "execution_count": 18,
   "metadata": {},
   "outputs": [],
   "source": [
    "from Continent import Continent\n",
    "from Country import Country"
   ]
  },
  {
   "cell_type": "code",
   "execution_count": 19,
   "metadata": {},
   "outputs": [
    {
     "name": "stdout",
     "output_type": "stream",
     "text": [
      "Canada has a population of 34482779 and is 9984670 square km.\n",
      "United States of America has a population of 313914040 and is 9826675 square km.\n",
      "Mexico has a population of 112336538 and is 1943950 square km.\n"
     ]
    }
   ],
   "source": [
    "# a\n",
    "canada = Country('Canada', 34482779, 9984670)\n",
    "usa = Country('United States of America', 313914040,9826675)\n",
    "mexico = Country('Mexico', 112336538, 1943950)\n",
    "\n",
    "countries = [canada, usa , mexico]\n",
    "north_america = Continent('North America', countries)\n",
    "\n",
    "for country in north_america.countries:\n",
    "    print(country)"
   ]
  },
  {
   "cell_type": "code",
   "execution_count": 20,
   "metadata": {},
   "outputs": [
    {
     "name": "stdout",
     "output_type": "stream",
     "text": [
      "The sum of the populations of the countries:  460733357\n"
     ]
    }
   ],
   "source": [
    "#b\n",
    "print('The sum of the populations of the countries: ', north_america.total_population())"
   ]
  },
  {
   "cell_type": "code",
   "execution_count": 21,
   "metadata": {},
   "outputs": [
    {
     "name": "stdout",
     "output_type": "stream",
     "text": [
      "North America\n",
      "Canada has a population of 34482779 and is 9984670 square km.\n",
      "United States of America has a population of 313914040 and is 9826675 square km.\n",
      "Mexico has a population of 112336538 and is 1943950 square km.\n",
      "\n"
     ]
    }
   ],
   "source": [
    "#c\n",
    "print(north_america)"
   ]
  }
 ],
 "metadata": {
  "interpreter": {
   "hash": "4cc67988e4988ee1d9bd9908c1fd5661d460c125cfbe9ce405d7f4fc09dc6c63"
  },
  "kernelspec": {
   "display_name": "Python 3.9.7 64-bit",
   "name": "python3"
  },
  "language_info": {
   "codemirror_mode": {
    "name": "ipython",
    "version": 3
   },
   "file_extension": ".py",
   "mimetype": "text/x-python",
   "name": "python",
   "nbconvert_exporter": "python",
   "pygments_lexer": "ipython3",
   "version": "3.9.7"
  },
  "orig_nbformat": 4
 },
 "nbformat": 4,
 "nbformat_minor": 2
}
