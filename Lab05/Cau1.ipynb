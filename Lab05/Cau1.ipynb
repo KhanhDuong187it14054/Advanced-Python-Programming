{
 "cells": [
  {
   "cell_type": "code",
   "execution_count": 125,
   "metadata": {},
   "outputs": [],
   "source": [
    "from Country import Country"
   ]
  },
  {
   "cell_type": "code",
   "execution_count": 126,
   "metadata": {},
   "outputs": [
    {
     "name": "stdout",
     "output_type": "stream",
     "text": [
      "Name: Canada  Pollution: 34482779  Area: 9984670\n"
     ]
    }
   ],
   "source": [
    "# Cau 1 :\n",
    "# a\n",
    "canada = Country('Canada', 34482779, 9984670)\n",
    "print('Name:',canada.name ,' Pollution:',canada.population,' Area:', canada.area)"
   ]
  },
  {
   "cell_type": "code",
   "execution_count": 127,
   "metadata": {},
   "outputs": [
    {
     "name": "stdout",
     "output_type": "stream",
     "text": [
      "Canada is larger than USA: True\n"
     ]
    }
   ],
   "source": [
    "# b\n",
    "usa = Country('United States of America', 313914040, 9826675)\n",
    "print('Canada is larger than USA:',canada.is_larger(usa))"
   ]
  },
  {
   "cell_type": "code",
   "execution_count": 128,
   "metadata": {},
   "outputs": [
    {
     "name": "stdout",
     "output_type": "stream",
     "text": [
      "The population density of Canada: 3.4535722262227995\n"
     ]
    }
   ],
   "source": [
    "# c\n",
    "print('The population density of Canada:',canada.population_density())"
   ]
  },
  {
   "cell_type": "code",
   "execution_count": 129,
   "metadata": {},
   "outputs": [
    {
     "name": "stdout",
     "output_type": "stream",
     "text": [
      "<Country.Country object at 0x000001AB9087CA60>\n"
     ]
    }
   ],
   "source": [
    "# d\n",
    "print(usa)\n",
    "# United States of America has a population of 313914040 and is 9826675 square km."
   ]
  },
  {
   "cell_type": "code",
   "execution_count": 130,
   "metadata": {},
   "outputs": [
    {
     "name": "stdout",
     "output_type": "stream",
     "text": [
      "[<Country.Country object at 0x000001AB9087C0D0>]\n"
     ]
    }
   ],
   "source": [
    "# e\n",
    "print([canada])\n",
    "# [Country('Canada', 34482779, 9984670)]"
   ]
  }
 ],
 "metadata": {
  "interpreter": {
   "hash": "4cc67988e4988ee1d9bd9908c1fd5661d460c125cfbe9ce405d7f4fc09dc6c63"
  },
  "kernelspec": {
   "display_name": "Python 3.9.7 64-bit",
   "name": "python3"
  },
  "language_info": {
   "codemirror_mode": {
    "name": "ipython",
    "version": 3
   },
   "file_extension": ".py",
   "mimetype": "text/x-python",
   "name": "python",
   "nbconvert_exporter": "python",
   "pygments_lexer": "ipython3",
   "version": "3.9.7"
  },
  "orig_nbformat": 4
 },
 "nbformat": 4,
 "nbformat_minor": 2
}
