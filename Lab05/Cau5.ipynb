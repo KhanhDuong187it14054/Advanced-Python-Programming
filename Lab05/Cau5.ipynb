{
 "cells": [
  {
   "cell_type": "code",
   "execution_count": 10,
   "metadata": {},
   "outputs": [],
   "source": [
    "import math\n",
    "\n",
    "class Point:\n",
    "    def __init__(self, x, y):\n",
    "        self.x = x\n",
    "        self.y = y\n",
    "\n",
    "class LineSegment:\n",
    "    def __init__(self, start_point, end_point):\n",
    "        self.start_point = start_point\n",
    "        self.end_point = end_point\n",
    "\n",
    "    def slope(self):\n",
    "        return (self.end_point.y - self.start_point.y)/(self.end_point.x - self.start_point.x)\n",
    "    \n",
    "    def length(self):\n",
    "        return math.sqrt((self.end_point.x - self.start_point.x)**2 + (self.end_point.y - self.start_point.y)**2)"
   ]
  },
  {
   "cell_type": "code",
   "execution_count": 11,
   "metadata": {},
   "outputs": [
    {
     "name": "stdout",
     "output_type": "stream",
     "text": [
      "0.5\n",
      "2.23606797749979\n"
     ]
    }
   ],
   "source": [
    "Point_1 = Point(1,1)\n",
    "Point_2 = Point(3,2)\n",
    "segment = LineSegment(Point_1,Point_2)\n",
    "print(segment.slope())\n",
    "print(segment.length())"
   ]
  }
 ],
 "metadata": {
  "interpreter": {
   "hash": "1c7f499f483c2c9771615a22de5fadca9feb4b9ec4ad9263845cca4b3d821324"
  },
  "kernelspec": {
   "display_name": "Python 3.9.7 64-bit (windows store)",
   "name": "python3"
  },
  "language_info": {
   "codemirror_mode": {
    "name": "ipython",
    "version": 3
   },
   "file_extension": ".py",
   "mimetype": "text/x-python",
   "name": "python",
   "nbconvert_exporter": "python",
   "pygments_lexer": "ipython3",
   "version": "3.9.7"
  },
  "orig_nbformat": 4
 },
 "nbformat": 4,
 "nbformat_minor": 2
}
