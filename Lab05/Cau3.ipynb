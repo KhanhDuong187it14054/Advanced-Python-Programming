{
 "cells": [
  {
   "cell_type": "code",
   "execution_count": 66,
   "metadata": {},
   "outputs": [],
   "source": [
    "class Student:\n",
    "    def __init__(self, name, id, courses_taken, courses_current):\n",
    "        self.name = name\n",
    "        self.id = id\n",
    "        self.courses_taken = courses_taken\n",
    "        self.courses_current = courses_current\n",
    "    def __str__(self):\n",
    "        return 'Name:{}, ID:{} ,taken courses:{}, current courses:{}'.format(self.name, self.id, self.courses_taken, self.courses_current)"
   ]
  },
  {
   "cell_type": "code",
   "execution_count": 67,
   "metadata": {},
   "outputs": [],
   "source": [
    "class Member:\n",
    "    def __init__(self, name_courses, list_member):\n",
    "        self.name_courses = name_courses\n",
    "        self.list_member = list_member\n",
    "\n",
    "    def __repr__(self):\n",
    "        return \"Courses:{}, List_member:{}\".format(self.name_courses, self.list_member)"
   ]
  },
  {
   "cell_type": "code",
   "execution_count": 68,
   "metadata": {},
   "outputs": [],
   "source": [
    "class Faculty:\n",
    "    def __init__(self, name, id, email):\n",
    "        self.name = name\n",
    "        self.id = id\n",
    "        self.email = email\n",
    "    def __repr__(self):\n",
    "        return \"Courses name:{}, id:{}, email:{}\".format(self.name,self.id, self.email)"
   ]
  },
  {
   "cell_type": "code",
   "execution_count": 69,
   "metadata": {},
   "outputs": [
    {
     "name": "stdout",
     "output_type": "stream",
     "text": [
      "Name:CK Duong, ID:187IT14054 ,taken courses:['OOP', 'Web'], current courses:['Python']\n"
     ]
    }
   ],
   "source": [
    "Student_1 = Student('CK Duong','187IT14054',['OOP','Web'],['Python'])\n",
    "print(Student_1)"
   ]
  },
  {
   "cell_type": "code",
   "execution_count": 70,
   "metadata": {},
   "outputs": [
    {
     "name": "stdout",
     "output_type": "stream",
     "text": [
      "Python\n",
      "['Duong', 'Binh', 'Tri']\n",
      "Courses:Python, List_member:['Duong', 'Binh', 'Tri']\n"
     ]
    }
   ],
   "source": [
    "courses = Member('Python',['Duong','Binh','Tri'])\n",
    "print(courses.name_courses)\n",
    "print(courses.list_member)\n",
    "print(courses)"
   ]
  },
  {
   "cell_type": "code",
   "execution_count": 71,
   "metadata": {},
   "outputs": [],
   "source": [
    "my_faculty = Faculty('Cong nghe thong tin','IT','khoa.cntt@vlu.vn')"
   ]
  },
  {
   "cell_type": "code",
   "execution_count": 72,
   "metadata": {},
   "outputs": [
    {
     "name": "stdout",
     "output_type": "stream",
     "text": [
      "Courses name:Cong nghe thong tin, id:IT, email:khoa.cntt@vlu.vn\n"
     ]
    }
   ],
   "source": [
    "print(my_faculty)"
   ]
  }
 ],
 "metadata": {
  "interpreter": {
   "hash": "1c7f499f483c2c9771615a22de5fadca9feb4b9ec4ad9263845cca4b3d821324"
  },
  "kernelspec": {
   "display_name": "Python 3.9.7 64-bit (windows store)",
   "name": "python3"
  },
  "language_info": {
   "codemirror_mode": {
    "name": "ipython",
    "version": 3
   },
   "file_extension": ".py",
   "mimetype": "text/x-python",
   "name": "python",
   "nbconvert_exporter": "python",
   "pygments_lexer": "ipython3",
   "version": "3.9.7"
  },
  "orig_nbformat": 4
 },
 "nbformat": 4,
 "nbformat_minor": 2
}
