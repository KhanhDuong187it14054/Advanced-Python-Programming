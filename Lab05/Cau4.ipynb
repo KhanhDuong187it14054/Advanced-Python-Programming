{
 "cells": [
  {
   "cell_type": "code",
   "execution_count": 23,
   "metadata": {},
   "outputs": [],
   "source": [
    "class Nematode:\n",
    "    def __init__(self, length, gender, age):\n",
    "        self.length = length\n",
    "        self.gender = gender\n",
    "        self.age = age\n",
    "    def __str__(self):\n",
    "        return \"Nematode: {}mm, gender is {}, age is {}\".format(self.length, self.gender, self.age)\n",
    "    def __repr__(self):\n",
    "        return \"Nematode({}, '{}', {})\".format(self.length, self.gender, self.age)\n"
   ]
  },
  {
   "cell_type": "code",
   "execution_count": 24,
   "metadata": {},
   "outputs": [],
   "source": [
    "Nematode_A = Nematode(0.5,'male',1)"
   ]
  },
  {
   "cell_type": "code",
   "execution_count": 25,
   "metadata": {},
   "outputs": [
    {
     "name": "stdout",
     "output_type": "stream",
     "text": [
      "0.5\n",
      "male\n",
      "1\n",
      "Nematode: 0.5mm, gender is male, age is 1\n",
      "Nematode(0.5, 'male', 1)\n"
     ]
    }
   ],
   "source": [
    "print(Nematode_A.length)\n",
    "print(Nematode_A.gender)\n",
    "print(Nematode_A.age)\n",
    "print(Nematode_A.__str__())\n",
    "print(Nematode_A.__repr__())"
   ]
  }
 ],
 "metadata": {
  "interpreter": {
   "hash": "1c7f499f483c2c9771615a22de5fadca9feb4b9ec4ad9263845cca4b3d821324"
  },
  "kernelspec": {
   "display_name": "Python 3.9.7 64-bit (windows store)",
   "name": "python3"
  },
  "language_info": {
   "codemirror_mode": {
    "name": "ipython",
    "version": 3
   },
   "file_extension": ".py",
   "mimetype": "text/x-python",
   "name": "python",
   "nbconvert_exporter": "python",
   "pygments_lexer": "ipython3",
   "version": "3.9.7"
  },
  "orig_nbformat": 4
 },
 "nbformat": 4,
 "nbformat_minor": 2
}
